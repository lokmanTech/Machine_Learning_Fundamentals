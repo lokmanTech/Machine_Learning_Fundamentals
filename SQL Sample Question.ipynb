{
 "cells": [
  {
   "cell_type": "code",
   "execution_count": 1,
   "metadata": {},
   "outputs": [
    {
     "ename": "SyntaxError",
     "evalue": "invalid syntax (1434027590.py, line 1)",
     "output_type": "error",
     "traceback": [
      "\u001b[1;36m  Cell \u001b[1;32mIn[1], line 1\u001b[1;36m\u001b[0m\n\u001b[1;33m    <script>\u001b[0m\n\u001b[1;37m    ^\u001b[0m\n\u001b[1;31mSyntaxError\u001b[0m\u001b[1;31m:\u001b[0m invalid syntax\n"
     ]
    }
   ],
   "source": [
    "<script>\n",
    "  function code_toggle() {\n",
    "    if (code_shown){\n",
    "      $('div.input').hide('500');\n",
    "      $('#toggleButton').val('Show Code')\n",
    "    } else {\n",
    "      $('div.input').show('500');\n",
    "      $('#toggleButton').val('Hide Code')\n",
    "    }\n",
    "    code_shown = !code_shown\n",
    "  }\n",
    "\n",
    "  $( document ).ready(function(){\n",
    "    code_shown=false;\n",
    "    $('div.input').hide()\n",
    "  });\n",
    "</script>\n",
    "<form action=\"javascript:code_toggle()\"><input type=\"submit\" id=\"toggleButton\" value=\"Show Code\"></form>"
   ]
  },
  {
   "cell_type": "markdown",
   "metadata": {},
   "source": [
    "here is some SQL Interview practical query questions along with their solutions\n",
    "\n",
    "1. Question: Retrieve the top 5 highest-paid employees for each department, sorted by salary in descending order.\n",
    "\n",
    "Solution\n",
    " \n",
    " In []:  SELECT\n",
    "            department,\n",
    "            employee_name,\n",
    "            salary\n",
    "        FROM\n",
    "            (\n",
    "                SELECT\n",
    "                    department,\n",
    "                    employee_name,\n",
    "                    salary,\n",
    "                    ROW_NUMBER() OVER(\n",
    "                        PARTITION BY department\n",
    "                        ORDER BY\n",
    "                            salary DESC\n",
    "                    )   AS rank\n",
    "                FROM\n",
    "                    employees\n",
    "            )   ranked\n",
    "        WHERE\n",
    "            rank <=5;"
   ]
  }
 ],
 "metadata": {
  "kernelspec": {
   "display_name": "Python 3",
   "language": "python",
   "name": "python3"
  },
  "language_info": {
   "codemirror_mode": {
    "name": "ipython",
    "version": 3
   },
   "file_extension": ".py",
   "mimetype": "text/x-python",
   "name": "python",
   "nbconvert_exporter": "python",
   "pygments_lexer": "ipython3",
   "version": "3.11.5"
  },
  "orig_nbformat": 4
 },
 "nbformat": 4,
 "nbformat_minor": 2
}
