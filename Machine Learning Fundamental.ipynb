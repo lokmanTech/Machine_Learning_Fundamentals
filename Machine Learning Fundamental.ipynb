{
 "cells": [
  {
   "cell_type": "code",
   "execution_count": null,
   "metadata": {},
   "outputs": [],
   "source": []
  },
  {
   "cell_type": "markdown",
   "metadata": {},
   "source": [
    "# Machine Learning Fundamental"
   ]
  },
  {
   "cell_type": "markdown",
   "metadata": {},
   "source": [
    "Machine Learning indeed is fundamental for anyone looking to become data scientist or business scientist. But why?\n",
    "\n",
    "1. <b>Data Analysis & Decision Making:</b> Machine learning enables business scientists to analyze large and complex datasets efficiently. By using ML algorithm, they can identify patterns, trends, and insights that can inform strategic decisions and help business gain a competitive advantage.\n",
    "2. <b>Predictive Analytics:</b> Machine learning allows business scientist to build predictive models that forecast future trends, customer behaviour, and market dynamics. This helps organizations make informed decisions and plans for the future.\n",
    "3. "
   ]
  }
 ],
 "metadata": {
  "language_info": {
   "name": "python"
  },
  "orig_nbformat": 4
 },
 "nbformat": 4,
 "nbformat_minor": 2
}
