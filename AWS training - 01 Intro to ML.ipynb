{
 "cells": [
  {
   "cell_type": "markdown",
   "metadata": {},
   "source": [
    "# Introduction to Machine Learning: Art of the Possible\n",
    "\n",
    "This learning plan is designed to help Data Scientist and Developers integrate machine learning (ML) and artificial intelligence (AI) into tools and applications. The digital training included in this learning plan will expose you to the broadest and deepest set of machine learning services and supporting cloud infrastructure. This learning plan can also help prepare you for the AWS certified machine learning - Specialty certification exam.\n",
    "\n",
    "Before we proceed on the content, Learn the course structure is crucial to understand overall learning process.\n",
    "\n",
    "### Learning Structure\n",
    "<ol>\n",
    "    <li>Introduction to Machine Learning: Art of the possible</li>\n",
    "    <li>Machine Learning Terminology and Process</li>\n",
    "    <li>Planning a machine learning project</li>\n",
    "    <li>Machine Learning Essential for Business and Technical Decision Makers</li>\n",
    "    <li>Building a Machine Learning Ready Organization\n",
    "    <li>Introduction to Amazon SageMaker</li>\n",
    "    <li>Amazon SageMaker: Build and Object Detection Model Using Images Labeled with Ground Truth</li>\n",
    "    <li>Process Model: CRISP-DM on the AWS Stack</li>\n",
    "    <li>Machine Learning Security</li>\n",
    "    <li>Exam Readiness: AWS Certified Machine Learning - Specialty</li>\n",
    "</ol>"
   ]
  },
  {
   "cell_type": "markdown",
   "metadata": {},
   "source": []
  }
 ],
 "metadata": {
  "language_info": {
   "name": "python"
  },
  "orig_nbformat": 4
 },
 "nbformat": 4,
 "nbformat_minor": 2
}
